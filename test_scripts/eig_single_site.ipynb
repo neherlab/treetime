{
 "cells": [
  {
   "cell_type": "code",
   "execution_count": null,
   "id": "c306856a-f20f-455c-8ecf-17e64b879177",
   "metadata": {
    "scrolled": true
   },
   "outputs": [
    {
     "data": {
      "text/html": [
       "<div>\n",
       "<style scoped>\n",
       "    .dataframe tbody tr th:only-of-type {\n",
       "        vertical-align: middle;\n",
       "    }\n",
       "\n",
       "    .dataframe tbody tr th {\n",
       "        vertical-align: top;\n",
       "    }\n",
       "\n",
       "    .dataframe thead th {\n",
       "        text-align: right;\n",
       "    }\n",
       "</style>\n",
       "<table border=\"0\" class=\"dataframe\">\n",
       "  <thead>\n",
       "    <tr style=\"text-align: center;\">\n",
       "      <th></th>\n",
       "      <th>Version</th>\n",
       "    </tr>\n",
       "  </thead>\n",
       "  <tbody>\n",
       "    <tr>\n",
       "      <th>Operating system</th>\n",
       "      <td>Linux x86_64</td>\n",
       "    </tr>\n",
       "    <tr>\n",
       "      <th>Python</th>\n",
       "      <td>3.12.1</td>\n",
       "    </tr>\n",
       "    <tr>\n",
       "      <th>Jupyter</th>\n",
       "      <td>8.6.1</td>\n",
       "    </tr>\n",
       "    <tr>\n",
       "      <th>Jupyter Notebook</th>\n",
       "      <td>7.1.2</td>\n",
       "    </tr>\n",
       "    <tr>\n",
       "      <th>Jupyter Lab</th>\n",
       "      <td>4.1.6</td>\n",
       "    </tr>\n",
       "    <tr>\n",
       "      <th>Matplotlib</th>\n",
       "      <td>3.8.2</td>\n",
       "    </tr>\n",
       "    <tr>\n",
       "      <th>Seaborn</th>\n",
       "      <td>0.13.2</td>\n",
       "    </tr>\n",
       "    <tr>\n",
       "      <th>Numpy</th>\n",
       "      <td>1.26.4</td>\n",
       "    </tr>\n",
       "    <tr>\n",
       "      <th>Pandas</th>\n",
       "      <td>2.2.0</td>\n",
       "    </tr>\n",
       "    <tr>\n",
       "      <th>Plotly</th>\n",
       "      <td>5.24.1</td>\n",
       "    </tr>\n",
       "    <tr>\n",
       "      <th>SciPy</th>\n",
       "      <td>1.12.0</td>\n",
       "    </tr>\n",
       "  </tbody>\n",
       "</table>\n",
       "</div>"
      ],
      "text/plain": [
       "                    Version   \n",
       "Operating system  Linux x86_64\n",
       "Python                  3.12.1\n",
       "Jupyter                  8.6.1\n",
       "Jupyter Notebook         7.1.2\n",
       "Jupyter Lab              4.1.6\n",
       "Matplotlib               3.8.2\n",
       "Seaborn                 0.13.2\n",
       "Numpy                   1.26.4\n",
       "Pandas                   2.2.0\n",
       "Plotly                  5.24.1\n",
       "SciPy                   1.12.0"
      ]
     },
     "metadata": {},
     "output_type": "display_data"
    }
   ],
   "source": [
    "%matplotlib inline\n",
    "%reload_ext autoreload\n",
    "%autoreload 2\n",
    "\n",
    "import platform\n",
    "import platform\n",
    "import random\n",
    "from collections import (OrderedDict)\n",
    "import jupyter_client\n",
    "import jupyterlab\n",
    "import matplotlib\n",
    "import matplotlib.pyplot as plt\n",
    "import numpy as np\n",
    "import pandas as pd\n",
    "import plotly\n",
    "import scipy\n",
    "import seaborn as sns\n",
    "from IPython.display import display\n",
    "from notebook import __version__ as nb_ver\n",
    "\n",
    "np.set_printoptions(precision=60, threshold=20, edgeitems=8, suppress=True, linewidth=999, sign=' ', floatmode='maxprec_equal')\n",
    "SEED=1010336213\n",
    "random.seed(SEED)\n",
    "np.random.seed(SEED)\n",
    "\n",
    "\n",
    "pd.set_option('display.max_rows', 100)\n",
    "pd.set_option('display.max_columns', 500)\n",
    "pd.set_option('display.width', 1000)\n",
    "pd.set_option('display.precision', 3)\n",
    "pd.set_option('display.html.border', 0)\n",
    "pd.set_option('mode.chained_assignment', 'raise')\n",
    "pd.set_option('display.colheader_justify', 'center')\n",
    "\n",
    "plt.rcParams['agg.path.chunksize'] = 10000\n",
    "plt.rcParams['figure.dpi'] = 100\n",
    "plt.rcParams['figure.figsize'] = 16.0, 10.0\n",
    "plt.rcParams['figure.titleweight'] = 'bold'\n",
    "plt.rcParams['image.interpolation'] = 'None'\n",
    "plt.rcParams['lines.linewidth'] = 1\n",
    "plt.rcParams['savefig.bbox'] = 'tight'\n",
    "\n",
    "sns.set()\n",
    "sns.set(font_scale=0.8)\n",
    "plt.style.use(\"dark_background\")\n",
    "sns.set_context(rc={'patch.linewidth': 0.0})\n",
    "sns.set_style({\n",
    "  'axes.axisbelow': False,\n",
    "  'grid.color': '#ccc',\n",
    "  'grid.alpha': 0.33,\n",
    "  'grid.linestyle': '--',\n",
    "  'grid.linewidth': 0.5,\n",
    "  'axes.facecolor': '#111',\n",
    "  'axes.edgecolor': '#ccc',\n",
    "  'axes.grid': True,\n",
    "  'axes.labelcolor': '#ccc',\n",
    "  'figure.facecolor': '#111',\n",
    "  'text.color': '#ccc',\n",
    "  'xtick.color': '#ccc',\n",
    "  'ytick.color': '#ccc',\n",
    "  'patch.edgecolor': '#ccc',\n",
    "})\n",
    "sns.set_palette(\"pastel\")\n",
    "\n",
    "plt.rcParams['axes.grid'] = True\n",
    "plt.rcParams['axes.grid.axis'] = 'both'\n",
    "plt.rcParams['axes.grid.which'] = 'major'\n",
    "plt.rcParams['grid.alpha'] = 0.33\n",
    "plt.rcParams['grid.color'] = '#ccc'\n",
    "plt.rcParams['grid.linestyle'] = '--'\n",
    "plt.rcParams['grid.linewidth'] = 0.5\n",
    "\n",
    "plt.rcParams['axes.spines.right'] = False\n",
    "plt.rcParams['axes.spines.top'] = False\n",
    "\n",
    "# Fixed random seed for better reproducibility\n",
    "SEED = 4146516932\n",
    "random.seed(SEED)\n",
    "np.random.seed(SEED)\n",
    "\n",
    "versions = pd.DataFrame.from_dict(OrderedDict([\n",
    "  ('Operating system', ' '.join([platform.system(), platform.processor()])),\n",
    "  ('Python', platform.python_version()),\n",
    "  ('Jupyter', jupyter_client.__version__),\n",
    "  ('Jupyter Notebook', nb_ver),\n",
    "  ('Jupyter Lab', jupyterlab.__version__),\n",
    "  ('Matplotlib', matplotlib.__version__),\n",
    "  ('Seaborn', sns.__version__),\n",
    "  ('Numpy', np.__version__),\n",
    "  ('Pandas', pd.__version__),\n",
    "  ('Plotly', plotly.__version__),\n",
    "  ('SciPy', scipy.__version__),\n",
    "]), orient='index')\n",
    "versions.columns = ['Version']\n",
    "display(versions)"
   ]
  },
  {
   "cell_type": "code",
   "execution_count": 1,
   "id": "60a489e6-7ef8-4050-a324-a85d4d00731b",
   "metadata": {},
   "outputs": [],
   "source": [
    "# import numpy\n",
    "# numpy.show_config()"
   ]
  },
  {
   "cell_type": "code",
   "execution_count": 2,
   "id": "784ac3d0-6b10-4971-8cd3-c3d6127c168c",
   "metadata": {},
   "outputs": [
    {
     "name": "stdout",
     "output_type": "stream",
     "text": [
      "{'/home/richard/micromamba/lib/libblas.so': {'Backend': 'OpenBLAS & Netlib '\n",
      "                                                        'LAPACK',\n",
      "                                             'Version': 'OpenBLAS 0.3.26 '\n",
      "                                                        'DYNAMIC_ARCH '\n",
      "                                                        'NO_AFFINITY Haswell '\n",
      "                                                        'MAX_THREADS=128'},\n",
      " '/home/richard/micromamba/lib/libcblas.so': {'Backend': 'OpenBLAS & Netlib '\n",
      "                                                         'LAPACK',\n",
      "                                              'Version': 'OpenBLAS 0.3.26 '\n",
      "                                                         'DYNAMIC_ARCH '\n",
      "                                                         'NO_AFFINITY Haswell '\n",
      "                                                         'MAX_THREADS=128'},\n",
      " '/home/richard/micromamba/lib/liblapack.so': {'Backend': 'OpenBLAS & Netlib '\n",
      "                                                          'LAPACK',\n",
      "                                               'Version': 'OpenBLAS 0.3.26 '\n",
      "                                                          'DYNAMIC_ARCH '\n",
      "                                                          'NO_AFFINITY Haswell '\n",
      "                                                          'MAX_THREADS=128'},\n",
      " '/home/richard/micromamba/lib/libopenblasp-r0.3.26.so': {'Backend': 'OpenBLAS '\n",
      "                                                                     '& Netlib '\n",
      "                                                                     'LAPACK',\n",
      "                                                          'Version': 'OpenBLAS '\n",
      "                                                                     '0.3.26 '\n",
      "                                                                     'DYNAMIC_ARCH '\n",
      "                                                                     'NO_AFFINITY '\n",
      "                                                                     'Haswell '\n",
      "                                                                     'MAX_THREADS=128'}}\n"
     ]
    }
   ],
   "source": [
    "import ctypes\n",
    "import sys\n",
    "import glob\n",
    "import os\n",
    "import numpy as np\n",
    "\n",
    "def check_library_backends():\n",
    "    python_version = f\"python{sys.version_info.major}.{sys.version_info.minor}\"\n",
    "    paths = [\n",
    "        sys.exec_prefix + '/lib',\n",
    "        os.path.join(os.path.expanduser('~/.local/lib'), python_version, 'site-packages', 'numpy.libs'),\n",
    "    ]\n",
    "\n",
    "    library_paths = []\n",
    "    for path in paths:\n",
    "        library_paths.extend(glob.glob(path + '/*blas*.so', recursive=True))\n",
    "        library_paths.extend(glob.glob(path + '/*lapack*.so', recursive=True))\n",
    "\n",
    "    if not library_paths:\n",
    "        raise FileNotFoundError(\"No BLAS or LAPACK libraries found.\")\n",
    "\n",
    "    results = {}\n",
    "    for lib_path in library_paths:\n",
    "        lib = ctypes.CDLL(lib_path)\n",
    "        backend = \"Unknown\"\n",
    "        if hasattr(lib, 'openblas_get_config'):\n",
    "            backend = \"OpenBLAS\"\n",
    "        elif hasattr(lib, 'MKL_Get_Version_String'):\n",
    "            backend = \"MKL\"\n",
    "        elif hasattr(lib, 'ATL_buildinfo'):\n",
    "            backend = \"ATLAS\"\n",
    "        elif hasattr(lib, 'goto_get_num_procs'):\n",
    "            backend = \"GotoBLAS\"\n",
    "        elif hasattr(lib, 'blas_set_parameter'):\n",
    "            backend = \"BLIS\"\n",
    "        elif hasattr(lib, 'cblas_sgemm'):\n",
    "            backend = \"Apple Accelerate (BLAS)\"\n",
    "        if hasattr(lib, 'LAPACKE_dgetrf'):\n",
    "            backend += \" & Netlib LAPACK\"\n",
    "        elif hasattr(lib, 'dgels_'):\n",
    "            backend += \" & Apple Accelerate (LAPACK)\"\n",
    "\n",
    "        version = get_version(lib, backend) if backend != \"Unknown\" else \"Version info not available\"\n",
    "        results[lib_path] = {\"Backend\": backend, \"Version\": version}\n",
    "\n",
    "    return results\n",
    "\n",
    "def get_version(lib, backend):\n",
    "    version_info = \"Version info not available\"\n",
    "    if backend.startswith(\"OpenBLAS\"):\n",
    "        get_config = lib.openblas_get_config\n",
    "        get_config.restype = ctypes.c_char_p\n",
    "        version_info = get_config().decode()\n",
    "    elif backend.startswith(\"MKL\"):\n",
    "        mkl_get_version = lib.MKL_Get_Version_String\n",
    "        mkl_get_version.restype = ctypes.c_char_p\n",
    "        version_info = mkl_get_version().decode()\n",
    "    return version_info\n",
    "\n",
    "from pprint import pprint\n",
    "pprint(check_library_backends())"
   ]
  },
  {
   "cell_type": "code",
   "execution_count": 3,
   "id": "07d63dd6-fb7a-4c6f-ac36-560510634e0f",
   "metadata": {},
   "outputs": [],
   "source": [
    "# Taken from treetime.py\n",
    "def _eig_single_site(W, p):\n",
    "    \"\"\"\n",
    "    Perform eigendecompositon of the rate matrix and stores the left- and right-\n",
    "    matrices to convert the sequence profiles to the GTR matrix eigenspace\n",
    "    and hence to speed-up the computations.\n",
    "    NOTE: this assumes the diagonal of W is all zeros\n",
    "    \"\"\"\n",
    "    assert np.abs(np.diag(W).sum())<1e-10\n",
    "\n",
    "    tmpp = np.sqrt(p)\n",
    "    symQ = W*np.outer(tmpp, tmpp)\n",
    "    np.fill_diagonal(symQ, -np.sum(W*p, axis=1))\n",
    "\n",
    "    eigvals, eigvecs = np.linalg.eigh(symQ)\n",
    "    tmp_v = eigvecs.T*tmpp\n",
    "    one_norm = np.sum(np.abs(tmp_v), axis=1)\n",
    "    return eigvals, tmp_v.T/one_norm, (eigvecs*one_norm).T/tmpp"
   ]
  },
  {
   "cell_type": "code",
   "execution_count": 4,
   "id": "d4ce94a6-5345-497c-9edf-9d3de7004c83",
   "metadata": {},
   "outputs": [
    {
     "data": {
      "text/plain": [
       "(array([-1.2500000000000002220446049250313, -1.2500000000000000000000000000000, -1.2500000000000000000000000000000, -1.2500000000000000000000000000000, -0.0000000000000002220446049250313]),\n",
       " array([[ 0.352941176470588092,  0.315789473684210564,  0.000000000000000000,  0.000000000000000000,  0.200000000000000011],\n",
       "        [-0.441176470588235448,  0.184210526315789436, -0.070262648996307728,  0.150000000000000050,  0.200000000000000011],\n",
       "        [-0.029411764705882353, -0.122807017543859670, -0.265791170012307509, -0.415153077165046569,  0.200000000000000011],\n",
       "        [-0.029411764705882353, -0.122807017543859670,  0.499999999999999944, -0.084846922834953417,  0.200000000000000011],\n",
       "        [ 0.147058823529411825, -0.254385964912280715, -0.163946180991384721,  0.349999999999999922,  0.200000000000000039]]),\n",
       " array([[ 1.03030303030303005, -1.28787878787878851, -0.08585858585858586, -0.08585858585858586,  0.42929292929292950],\n",
       "        [ 1.38181818181818228,  0.80606060606060614, -0.53737373737373761, -0.53737373737373761, -1.11313131313131342],\n",
       "        [ 0.00000000000000000, -0.19934920800230116, -0.75410278423665522,  1.41860014424432568, -0.46514815200536946],\n",
       "        [ 0.00000000000000000,  0.46217686602517161, -1.27916098749898288, -0.26142856591825553,  1.07841268739206653],\n",
       "        [ 1.00000000000000022,  1.00000000000000022,  1.00000000000000022,  1.00000000000000022,  1.00000000000000022]]))"
      ]
     },
     "execution_count": 4,
     "metadata": {},
     "output_type": "execute_result"
    }
   ],
   "source": [
    "W = np.array([\n",
    "  [0.00, 1.25, 1.25, 1.25, 1.25],\n",
    "  [1.25, 0.00, 1.25, 1.25, 1.25],\n",
    "  [1.25, 1.25, 0.00, 1.25, 1.25],\n",
    "  [1.25, 1.25, 1.25, 0.00, 1.25],\n",
    "  [1.25, 1.25, 1.25, 1.25, 0.00],\n",
    "])\n",
    "\n",
    "pi = np.array([0.2, 0.2, 0.2, 0.2, 0.2])\n",
    "\n",
    "_eig_single_site(W, pi)"
   ]
  },
  {
   "cell_type": "code",
   "execution_count": 5,
   "id": "ed4f5b70-6024-433b-b5fd-8453a8f3c01f",
   "metadata": {},
   "outputs": [
    {
     "data": {
      "text/plain": [
       "(array([-0.684814487016582207346004906867165, -0.562331479193467154154006948374445, -0.430361364871948370858234511615592, -0.322492668918002101108299939369317,  0.000000000000000036441898489721763]),\n",
       " array([[ 0.202271628585528107,  0.307826383422367178, -0.098023838663632679,  0.250328116125804745, -0.200000000000000039],\n",
       "        [-0.385290530500332129, -0.123608159555069985, -0.105959998204931419,  0.179928970165498470, -0.199999999999999956],\n",
       "        [ 0.240360821331196267, -0.362050393692916472,  0.150219592451481615,  0.069742913708696827, -0.200000000000000094],\n",
       "        [-0.114709469499667829,  0.192173616577632822,  0.349780407548518468, -0.177891061413691071, -0.199999999999999983],\n",
       "        [ 0.057367550083275660, -0.014341446752013461, -0.296016163131435917, -0.322108938586308957, -0.199999999999999983]]),\n",
       " array([[ 0.76738605837507445, -1.46173036523939515,  0.91189033557986088, -0.43518929606296708,  0.21764326734742712],\n",
       "        [ 1.10628265854551722, -0.44422950966770564, -1.30115576062395322,  0.69064365791578475, -0.05154104616964291],\n",
       "        [-0.38687406747981229, -0.41819598226879173,  0.59287685056171702,  1.38049040761802466, -1.16829720843113760],\n",
       "        [ 1.06385852833276484,  0.76467227240466162,  0.29639736314112242, -0.75601145300040140, -1.36891671087814726],\n",
       "        [-1.00000000000000022, -0.99999999999999989, -1.00000000000000044, -1.00000000000000000, -1.00000000000000000]]))"
      ]
     },
     "execution_count": 5,
     "metadata": {},
     "output_type": "execute_result"
    }
   ],
   "source": [
    "W = np.array([\n",
    "    [0.0, 1.0, 0.5, 0.3, 0.2],\n",
    "    [1.0, 0.0, 0.8, 0.2, 0.4],\n",
    "    [0.5, 0.8, 0.0, 0.7, 0.3],\n",
    "    [0.3, 0.2, 0.7, 0.0, 0.6],\n",
    "    [0.2, 0.4, 0.3, 0.6, 0.0]\n",
    "])\n",
    "\n",
    "pi = np.array([0.2, 0.2, 0.2, 0.2, 0.2])\n",
    "\n",
    "_eig_single_site(W, pi)"
   ]
  },
  {
   "cell_type": "code",
   "execution_count": 8,
   "id": "717668f3-d3e9-4bfd-b48d-c99c647829ce",
   "metadata": {},
   "outputs": [
    {
     "name": "stdout",
     "output_type": "stream",
     "text": [
      "eigenvalues:\n",
      " [-0.54897944125116571179034963279264 -0.53814016627092564615253422743990 -0.50166508082992933292842963055591 -0.45721531164797907242913765912817 -0.00000000000000013583064089189833]\n",
      "\n",
      "left eigenvectors:\n",
      " [[-0.35360242252193302  0.09991699541026350  0.21776805850998729 -0.23687476891460404  0.20000000000000001]\n",
      " [-0.05193091765153580  0.35319333569605671 -0.26146358195171854  0.11282225035357402  0.20000000000000009]\n",
      " [ 0.50000000000000000  0.04688966889367960  0.09905586448759522 -0.15582104771802235  0.19999999999999996]\n",
      " [-0.07398730075763209 -0.37355261755853825 -0.23853641804828132 -0.10730418336737360  0.19999999999999996]\n",
      " [-0.02047935906889908 -0.12644738244146186  0.18317607700241764  0.38717774964642604  0.19999999999999996]]\n",
      "\n",
      "right eigenvectors:\n",
      " [[-0.92173973465450487 -0.13536895453119385  1.30335608008643056 -0.19286359658328631 -0.05338379431744560]\n",
      " [ 0.34164553117988744  1.20767167074642279  0.16032953923657189 -1.27728603052363932 -0.43236071063924408]\n",
      " [ 1.00794609590925055 -1.21019215790361900  0.45848308778768104 -1.10407308100657620  0.84783605521326499]\n",
      " [-0.93060117184196933  0.44324061557917538 -0.61216840556079544 -0.42156198924345178  1.52109095106704140]\n",
      " [ 0.99999999999999989  1.00000000000000022  0.99999999999999956  0.99999999999999956  0.99999999999999967]]\n"
     ]
    }
   ],
   "source": [
    "W = np.array([\n",
    "    [0,  0.445,  0.64 ,  0.531,  0.425],\n",
    "    [ 0.445, 0,  0.492,  0.571,  0.567],\n",
    "    [ 0.64 ,  0.492, 0,  0.55 ,  0.459],\n",
    "    [ 0.531,  0.571,  0.55 , 0,  0.435],\n",
    "    [ 0.425,  0.567,  0.459,  0.435, 0],\n",
    "])\n",
    "\n",
    "pi = np.array([0.2, 0.2, 0.2, 0.2, 0.2])\n",
    "\n",
    "ev, evec_left, evec_right = _eig_single_site(W, pi)\n",
    "\n",
    "print(\"eigenvalues:\\n\", ev)\n",
    "\n",
    "print(\"\\nleft eigenvectors:\\n\", evec_left)\n",
    "\n",
    "print(\"\\nright eigenvectors:\\n\", evec_right)\n"
   ]
  },
  {
   "cell_type": "code",
   "execution_count": 9,
   "id": "86eee9c2-d0d0-43e2-9a45-de65fe23e5ab",
   "metadata": {},
   "outputs": [
    {
     "data": {
      "text/plain": [
       "array([[ 0.999999999999999666933092612453038,  0.000000000000000099920072216264091,  0.000000000000000160982338570647693,  0.000000000000000022204460492503126,  0.000000000000000099920072216264079],\n",
       "       [ 0.000000000000000116573417585641417,  0.999999999999999111821580299874768,  0.000000000000000105471187339389829,  0.000000000000000105471187339389829,  0.000000000000000099920072216264054],\n",
       "       [ 0.000000000000000116573417585641442,  0.000000000000000072164496600635165,  0.999999999999999333866185224906076,  0.000000000000000105471187339389891, -0.000000000000000066613381477509378],\n",
       "       [ 0.000000000000000033306690738754701,  0.000000000000000210942374678779733,  0.000000000000000077715611723760978,  0.999999999999999222843882762390422,  0.000000000000000044408920985006276],\n",
       "       [ 0.000000000000000088817841970012528,  0.000000000000000127675647831892992, -0.000000000000000088817841970012504,  0.000000000000000022204460492503151,  0.999999999999999888977697537484346]])"
      ]
     },
     "execution_count": 9,
     "metadata": {},
     "output_type": "execute_result"
    }
   ],
   "source": [
    "evec_left.dot(evec_right)"
   ]
  },
  {
   "cell_type": "code",
   "execution_count": 13,
   "id": "79b90b98-19ca-49bd-8c10-4ec86af70ea2",
   "metadata": {},
   "outputs": [
    {
     "data": {
      "text/plain": [
       "True"
      ]
     },
     "execution_count": 13,
     "metadata": {},
     "output_type": "execute_result"
    }
   ],
   "source": [
    "# useful test -- these should work for any matrix, also the degenerate ones\n",
    "np.sum(np.abs(evec_left.dot(evec_right) - np.eye(5))) < 1e-12"
   ]
  },
  {
   "cell_type": "code",
   "execution_count": 14,
   "id": "e4b893e9-557a-4d30-b51d-de74fc0977f9",
   "metadata": {},
   "outputs": [
    {
     "data": {
      "text/plain": [
       "True"
      ]
     },
     "execution_count": 14,
     "metadata": {},
     "output_type": "execute_result"
    }
   ],
   "source": [
    "# useful test\n",
    "np.sum(np.abs(evec_left[:,-1] - pi)) < 1e-12"
   ]
  },
  {
   "cell_type": "code",
   "execution_count": 16,
   "id": "9e83e6f0-f04e-4fb4-9c07-60ed60ce95bd",
   "metadata": {},
   "outputs": [
    {
     "data": {
      "text/plain": [
       "True"
      ]
     },
     "execution_count": 16,
     "metadata": {},
     "output_type": "execute_result"
    }
   ],
   "source": [
    "# useful test\n",
    "np.sum(np.abs(evec_right[-1] - 1.0)) < 1e-12"
   ]
  },
  {
   "cell_type": "code",
   "execution_count": null,
   "id": "a72d921d-1b01-44c0-8bee-78a43b29a01e",
   "metadata": {},
   "outputs": [],
   "source": []
  }
 ],
 "metadata": {
  "kernelspec": {
   "display_name": "Python 3 (ipykernel)",
   "language": "python",
   "name": "python3"
  },
  "language_info": {
   "codemirror_mode": {
    "name": "ipython",
    "version": 3
   },
   "file_extension": ".py",
   "mimetype": "text/x-python",
   "name": "python",
   "nbconvert_exporter": "python",
   "pygments_lexer": "ipython3",
   "version": "3.12.1"
  }
 },
 "nbformat": 4,
 "nbformat_minor": 5
}
